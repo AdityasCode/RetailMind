{
 "cells": [
  {
   "metadata": {
    "ExecuteTime": {
     "end_time": "2025-07-22T05:55:19.156854Z",
     "start_time": "2025-07-22T05:55:19.147752Z"
    }
   },
   "cell_type": "code",
   "source": [
    "import os\n",
    "os.chdir(\"..\")\n",
    "from langchain import hub\n",
    "from langchain.agents import create_tool_calling_agent, AgentExecutor\n",
    "from langchain_openai import ChatOpenAI\n",
    "from openai import OpenAI\n",
    "from dotenv import load_dotenv\n",
    "\n",
    "from src.crud import CRUD\n",
    "from src.eda import EDAFeatures\n",
    "from utils import stderr_print"
   ],
   "id": "9d1d6618b292b5d3",
   "outputs": [],
   "execution_count": 10
  },
  {
   "metadata": {
    "ExecuteTime": {
     "end_time": "2025-07-22T05:55:19.169832Z",
     "start_time": "2025-07-22T05:55:19.164079Z"
    }
   },
   "cell_type": "code",
   "source": [
    "\n",
    "class ChatBot:\n",
    "    def __init__(self, past_know: str, pred_know: str):\n",
    "        load_dotenv()\n",
    "        self.client = OpenAI(api_key=os.getenv(\"OPENAI_API_KEY\"))\n",
    "        self.past_know: str = past_know\n",
    "        self.pred_know: str = pred_know\n",
    "\n",
    "    def set_past_know(self, past_know: str):\n",
    "        self.past_know = past_know\n",
    "\n",
    "    def set_pred_know(self, pred_know: str):\n",
    "        self.pred_know = pred_know\n",
    "\n",
    "    def get_gpt35_response(self, question: str, temperature: float = 0.7, max_tokens: int = 1024, model: str = \"gpt-3.5-turbo\") -> str:\n",
    "        past_know = self.past_know\n",
    "        pred_know = self.pred_know\n",
    "        client = self.client\n",
    "        stderr_print(f\"Past know: {past_know}\\nPred know: {pred_know}\\nQuestion: {question}\")\n",
    "        prompt = f\"\"\"\n",
    "You are 'RetailMind,' an expert AI business consultant. Your goal is to provide concise, data-driven analysis and strategic advice to retail decision-makers.\n",
    "\n",
    "You have been provided with two key data summaries:\n",
    "- **Historical Sales Data:**\n",
    "{past_know}\n",
    "- **Predicted Sales Forecast:**\n",
    "{pred_know}\n",
    "\n",
    "Based ONLY on the information in these summaries, you must synthesize the data, identify key business insights, and answer the user's question. If the data is insufficient to answer, state that clearly.\n",
    "\n",
    "Structure your response using the following professional format:\n",
    "\n",
    "Executive Summary\n",
    "[Directly and concisely answer the user's question here.]\n",
    "\n",
    "---\n",
    "\n",
    "Key Analytical Insights\n",
    "- **Performance Trend:** Compare a key metric (e.g., average sales, peak/low points) from the historical data against the forecast. Is performance expected to improve, decline, or stay consistent?\n",
    "- **Holiday & Anomaly Impact:** State the observed or predicted impact of holidays on sales. Mention any standout peaks or dips.\n",
    "- **Correlation Insights:** Highlight the most significant relationship noted in the data (e.g., with unemployment) and identify any stores that are strong outliers.\n",
    "\n",
    "---\n",
    "\n",
    "Strategic Recommendations\n",
    "- Based on your analysis, provide one or two concrete, actionable recommendations. This could be a potential business opportunity to explore or a risk to investigate further.\n",
    "\n",
    "Maintain a professional and direct tone. Use the specific figures from the provided summaries to support your analysis.\n",
    "\n",
    "**User Question:** {question}\n",
    "\"\"\"\n",
    "\n",
    "        response = client.chat.completions.create(model=model,\n",
    "                                                  messages=[\n",
    "                                                      {\"role\": \"user\", \"content\": prompt}\n",
    "                                                  ],\n",
    "                                                  temperature=temperature,\n",
    "                                                  max_tokens=max_tokens)\n",
    "        return response.choices[0].message.content.strip()\n"
   ],
   "id": "4b49c6875220309a",
   "outputs": [],
   "execution_count": 11
  },
  {
   "metadata": {
    "collapsed": true,
    "ExecuteTime": {
     "end_time": "2025-07-22T05:55:19.179179Z",
     "start_time": "2025-07-22T05:55:19.175301Z"
    }
   },
   "cell_type": "code",
   "source": [
    "\n",
    "class RetailAgent:\n",
    "    \"\"\"\n",
    "    AI agent that uses CRUD and EDA to answer questions about the retail dataset.\n",
    "    \"\"\"\n",
    "    def __init__(self, crud_obj: CRUD, eda_obj: EDAFeatures):\n",
    "        \"\"\"\n",
    "        :param crud_obj: instantiated CRUD object\n",
    "        :param eda_obj: instantiated EDAFeatures object\n",
    "        \"\"\"\n",
    "        load_dotenv()\n",
    "        self.llm = ChatOpenAI(\n",
    "            model=\"gpt-4o\",\n",
    "            temperature=0.7,\n",
    "            api_key=os.getenv(\"OPENAI_API_KEY\")\n",
    "        )\n",
    "\n",
    "        self.tools = [\n",
    "            crud_obj.sales_by_year_tool,\n",
    "            crud_obj.sales_by_month_tool,\n",
    "            crud_obj.sales_by_date_tool,\n",
    "            eda_obj.sales_t_tool,\n",
    "            eda_obj.holiday_impact_tool,\n",
    "            eda_obj.top_performing_stores_tool,\n",
    "            eda_obj.department_analysis_holiday_tool,\n",
    "            eda_obj.department_analysis_no_holiday_tool,\n",
    "            eda_obj.analyze_economic_headwinds_tool,\n",
    "        ]\n",
    "\n",
    "        prompt = hub.pull(\"hwchase17/openai-tools-agent\")\n",
    "        agent = create_tool_calling_agent(self.llm, self.tools, prompt)\n",
    "        self.executor = AgentExecutor(agent=agent, tools=self.tools, verbose=True)\n",
    "\n",
    "    def ask(self, question: str) -> str:\n",
    "        \"\"\"\n",
    "        Asks the agent a question and returns an answer.\n",
    "        :param question (str): The user's question in natural language.\n",
    "        :return: answer\n",
    "        \"\"\"\n",
    "        response = self.executor.invoke({\"input\": question})\n",
    "        return response['output']\n",
    "\n",
    "# Basic Testing\n"
   ],
   "id": "initial_id",
   "outputs": [],
   "execution_count": 12
  },
  {
   "metadata": {
    "ExecuteTime": {
     "end_time": "2025-07-22T05:55:19.430098Z",
     "start_time": "2025-07-22T05:55:19.184460Z"
    }
   },
   "cell_type": "code",
   "source": [
    "print(os.getcwd())\n",
    "crud_manager = CRUD()\n",
    "eda_analyzer = EDAFeatures(gen_df=crud_manager.gen_df, spec_df=crud_manager.spec_df)"
   ],
   "id": "f6cb21ea5f4114ed",
   "outputs": [
    {
     "name": "stdout",
     "output_type": "stream",
     "text": [
      "/Users/adityagandhi/Development/RetailMind\n"
     ]
    },
    {
     "name": "stderr",
     "output_type": "stream",
     "text": [
      "/Users/adityagandhi/Development/RetailMind\n",
      "adding sales data\n",
      "adding external factors\n",
      "        Store  Dept        Date  Weekly_Sales  IsHoliday\n",
      "0           1     1  2010-02-05      24924.50      False\n",
      "1           1     1  2010-02-12      46039.49       True\n",
      "2           1     1  2010-02-19      41595.55      False\n",
      "3           1     1  2010-02-26      19403.54      False\n",
      "4           1     1  2010-03-05      21827.90      False\n",
      "...       ...   ...         ...           ...        ...\n",
      "421565     45    98  2012-09-28        508.37      False\n",
      "421566     45    98  2012-10-05        628.10      False\n",
      "421567     45    98  2012-10-12       1061.02      False\n",
      "421568     45    98  2012-10-19        760.01      False\n",
      "421569     45    98  2012-10-26       1076.80      False\n",
      "\n",
      "[421570 rows x 5 columns]\n"
     ]
    }
   ],
   "execution_count": 13
  },
  {
   "metadata": {
    "ExecuteTime": {
     "end_time": "2025-07-22T05:55:21.258577Z",
     "start_time": "2025-07-22T05:55:19.435467Z"
    }
   },
   "cell_type": "code",
   "source": "retail_chatbot = RetailAgent(crud_obj=crud_manager, eda_obj=eda_analyzer)",
   "id": "63211a5c0acc2091",
   "outputs": [
    {
     "name": "stderr",
     "output_type": "stream",
     "text": [
      "/Users/adityagandhi/Development/RetailMind/venv/lib/python3.11/site-packages/langsmith/client.py:272: LangSmithMissingAPIKeyWarning: API key must be provided when using hosted LangSmith API\n",
      "  warnings.warn(\n"
     ]
    }
   ],
   "execution_count": 14
  },
  {
   "metadata": {
    "ExecuteTime": {
     "end_time": "2025-07-22T05:55:24.675980Z",
     "start_time": "2025-07-22T05:55:21.264429Z"
    }
   },
   "cell_type": "code",
   "source": [
    "\n",
    "question1 = \"What were the total sales for store 2 in 2011?\"\n",
    "answer1 = retail_chatbot.ask(question1)\n",
    "print(f\"\\nAnswer: {answer1}\")"
   ],
   "id": "9ced542c30e9e099",
   "outputs": [
    {
     "name": "stdout",
     "output_type": "stream",
     "text": [
      "\n",
      "\n",
      "\u001B[1m> Entering new AgentExecutor chain...\u001B[0m\n",
      "\u001B[32;1m\u001B[1;3m\n",
      "Invoking: `get_sales_for_years` with `{'storeIDs': [2], 'years': [2011]}`\n",
      "\n",
      "\n",
      "\u001B[0m\u001B[36;1m\u001B[1;3m98607881\u001B[0m\u001B[32;1m\u001B[1;3mThe total sales for store 2 in 2011 were $98,607,881.\u001B[0m\n",
      "\n",
      "\u001B[1m> Finished chain.\u001B[0m\n",
      "\n",
      "Answer: The total sales for store 2 in 2011 were $98,607,881.\n"
     ]
    }
   ],
   "execution_count": 15
  },
  {
   "metadata": {
    "ExecuteTime": {
     "end_time": "2025-07-22T05:55:28.304662Z",
     "start_time": "2025-07-22T05:55:24.684036Z"
    }
   },
   "cell_type": "code",
   "source": [
    "question2 = \"Show me an analysis of the top 3 performing stores.\"\n",
    "answer2 = retail_chatbot.ask(question2)\n",
    "print(f\"\\nAnswer: {answer2}\")"
   ],
   "id": "7052df10a0595f9d",
   "outputs": [
    {
     "name": "stdout",
     "output_type": "stream",
     "text": [
      "\n",
      "\n",
      "\u001B[1m> Entering new AgentExecutor chain...\u001B[0m\n",
      "\u001B[32;1m\u001B[1;3m\n",
      "Invoking: `top_performing_stores_analyzer` with `{'top_n': 3}`\n",
      "\n",
      "\n",
      "\u001B[0m\u001B[38;5;200m\u001B[1;3mStore 20.0 was the top performer with total sales of $301,397,792. In contrast, Store 33.0 had the lowest sales with a total of $37,160,222.\n",
      "\u001B[0m"
     ]
    },
    {
     "name": "stderr",
     "output_type": "stream",
     "text": [
      "generating top performers bar graph\n"
     ]
    },
    {
     "name": "stdout",
     "output_type": "stream",
     "text": [
      "\u001B[32;1m\u001B[1;3mThe analysis of the top 3 performing stores reveals the following:\n",
      "\n",
      "- **Store 20**: This store was the top performer with total sales amounting to $301,397,792.\n",
      "- **Store 33**: In contrast, this store had the lowest sales, with a total of $37,160,222.\n",
      "\n",
      "This analysis highlights the significant difference in sales performance between the top and bottom stores.\u001B[0m\n",
      "\n",
      "\u001B[1m> Finished chain.\u001B[0m\n",
      "\n",
      "Answer: The analysis of the top 3 performing stores reveals the following:\n",
      "\n",
      "- **Store 20**: This store was the top performer with total sales amounting to $301,397,792.\n",
      "- **Store 33**: In contrast, this store had the lowest sales, with a total of $37,160,222.\n",
      "\n",
      "This analysis highlights the significant difference in sales performance between the top and bottom stores.\n"
     ]
    }
   ],
   "execution_count": 16
  },
  {
   "metadata": {
    "ExecuteTime": {
     "end_time": "2025-07-22T06:01:23.174420Z",
     "start_time": "2025-07-22T05:56:43.985765Z"
    }
   },
   "cell_type": "code",
   "source": [
    "question3 = \"Tell me everything you can about this data, including stores, holiday performance, top performers, retail headwinds, etc.\"\n",
    "answer3 = retail_chatbot.ask(question3)\n",
    "print(f\"\\nAnswer: {answer3}\")"
   ],
   "id": "938e8c3aed624964",
   "outputs": [
    {
     "name": "stdout",
     "output_type": "stream",
     "text": [
      "\n",
      "\n",
      "\u001B[1m> Entering new AgentExecutor chain...\u001B[0m\n",
      "\u001B[32;1m\u001B[1;3m\n",
      "Invoking: `sales_over_time_chart` with `{'tool_input': ''}`\n",
      "\n",
      "\n",
      "\u001B[0m\n",
      "\u001B[36;1m\u001B[1;3mOverall sales peaked at $80,931,416 on the week of 2010-12-24 00:00:00. The lowest point was $39,599,853 on 2011-01-28 00:00:00. The average weekly sales across the entire period was $47,113,419.\n",
      "\u001B[0m\u001B[32;1m\u001B[1;3m\n",
      "Invoking: `holiday_impact_analyzer` with `{'tool_input': ''}`\n",
      "\n",
      "\n",
      "\u001B[0m\u001B[33;1m\u001B[1;3mOn average, sales during holiday weeks ($17,036) were 7.1% higher than sales during non-holiday weeks ($15,901).\n",
      "\u001B[0m\u001B[32;1m\u001B[1;3m\n",
      "Invoking: `top_performing_stores_analyzer` with `{'tool_input': ''}`\n",
      "\n",
      "\n",
      "\u001B[0m\u001B[38;5;200m\u001B[1;3mStore 20.0 was the top performer with total sales of $301,397,792. In contrast, Store 33.0 had the lowest sales with a total of $37,160,222.\n",
      "\u001B[0m\u001B[32;1m\u001B[1;3m\n",
      "Invoking: `economic_headwinds_analyzer` with `{'tool_input': ''}`\n",
      "\n",
      "\n",
      "\u001B[0m   Store       Date  Weekly_Sales  Temperature  Fuel_Price         CPI  \\\n",
      "0      1 2010-02-05      24924.50       -42.31       2.572  211.096358   \n",
      "1      1 2010-02-05      50605.27       -42.31       2.572  211.096358   \n",
      "2      1 2010-02-05      13740.12       -42.31       2.572  211.096358   \n",
      "3      1 2010-02-05      39954.04       -42.31       2.572  211.096358   \n",
      "4      1 2010-02-05      32229.38       -42.31       2.572  211.096358   \n",
      "\n",
      "   Unemployment  headwinds_index  rolling_avg  volatility  yearly_trend  \\\n",
      "0         8.106        10.149812    10.149812         NaN           NaN   \n",
      "1         8.106        10.149812    10.149812         0.0           NaN   \n",
      "2         8.106        10.149812    10.149812         0.0           NaN   \n",
      "3         8.106        10.149812    10.149812         0.0           NaN   \n",
      "4         8.106        10.149812    10.149812         0.0           NaN   \n",
      "\n",
      "   lag_4_weeks  lag_12_weeks  \n",
      "0          NaN           NaN  \n",
      "1          NaN           NaN  \n",
      "2          NaN           NaN  \n",
      "3          NaN           NaN  \n",
      "4    10.149812           NaN  \n"
     ]
    },
    {
     "name": "stderr",
     "output_type": "stream",
     "text": [
      "generating sales graph\n",
      "        Store  Dept       Date  Weekly_Sales  IsHoliday\n",
      "0           1     1 2010-02-05      24924.50      False\n",
      "1           1     1 2010-02-12      46039.49       True\n",
      "2           1     1 2010-02-19      41595.55      False\n",
      "3           1     1 2010-02-26      19403.54      False\n",
      "4           1     1 2010-03-05      21827.90      False\n",
      "...       ...   ...        ...           ...        ...\n",
      "421565     45    98 2012-09-28        508.37      False\n",
      "421566     45    98 2012-10-05        628.10      False\n",
      "421567     45    98 2012-10-12       1061.02      False\n",
      "421568     45    98 2012-10-19        760.01      False\n",
      "421569     45    98 2012-10-26       1076.80      False\n",
      "\n",
      "[421570 rows x 5 columns]\n",
      "generating holiday impact box plot\n",
      "generating top performers bar graph\n"
     ]
    },
    {
     "ename": "KeyboardInterrupt",
     "evalue": "",
     "output_type": "error",
     "traceback": [
      "\u001B[31m---------------------------------------------------------------------------\u001B[39m",
      "\u001B[31mKeyboardInterrupt\u001B[39m                         Traceback (most recent call last)",
      "\u001B[36mCell\u001B[39m\u001B[36m \u001B[39m\u001B[32mIn[18]\u001B[39m\u001B[32m, line 2\u001B[39m\n\u001B[32m      1\u001B[39m question3 = \u001B[33m\"\u001B[39m\u001B[33mTell me everything you can about this data, including stores, holiday performance, top performers, retail headwinds, etc.\u001B[39m\u001B[33m\"\u001B[39m\n\u001B[32m----> \u001B[39m\u001B[32m2\u001B[39m answer3 = \u001B[43mretail_chatbot\u001B[49m\u001B[43m.\u001B[49m\u001B[43mask\u001B[49m\u001B[43m(\u001B[49m\u001B[43mquestion3\u001B[49m\u001B[43m)\u001B[49m\n\u001B[32m      3\u001B[39m \u001B[38;5;28mprint\u001B[39m(\u001B[33mf\u001B[39m\u001B[33m\"\u001B[39m\u001B[38;5;130;01m\\n\u001B[39;00m\u001B[33mAnswer: \u001B[39m\u001B[38;5;132;01m{\u001B[39;00manswer3\u001B[38;5;132;01m}\u001B[39;00m\u001B[33m\"\u001B[39m)\n",
      "\u001B[36mCell\u001B[39m\u001B[36m \u001B[39m\u001B[32mIn[12]\u001B[39m\u001B[32m, line 39\u001B[39m, in \u001B[36mRetailAgent.ask\u001B[39m\u001B[34m(self, question)\u001B[39m\n\u001B[32m     33\u001B[39m \u001B[38;5;28;01mdef\u001B[39;00m\u001B[38;5;250m \u001B[39m\u001B[34mask\u001B[39m(\u001B[38;5;28mself\u001B[39m, question: \u001B[38;5;28mstr\u001B[39m) -> \u001B[38;5;28mstr\u001B[39m:\n\u001B[32m     34\u001B[39m \u001B[38;5;250m    \u001B[39m\u001B[33;03m\"\"\"\u001B[39;00m\n\u001B[32m     35\u001B[39m \u001B[33;03m    Asks the agent a question and returns an answer.\u001B[39;00m\n\u001B[32m     36\u001B[39m \u001B[33;03m    :param question (str): The user's question in natural language.\u001B[39;00m\n\u001B[32m     37\u001B[39m \u001B[33;03m    :return: answer\u001B[39;00m\n\u001B[32m     38\u001B[39m \u001B[33;03m    \"\"\"\u001B[39;00m\n\u001B[32m---> \u001B[39m\u001B[32m39\u001B[39m     response = \u001B[38;5;28;43mself\u001B[39;49m\u001B[43m.\u001B[49m\u001B[43mexecutor\u001B[49m\u001B[43m.\u001B[49m\u001B[43minvoke\u001B[49m\u001B[43m(\u001B[49m\u001B[43m{\u001B[49m\u001B[33;43m\"\u001B[39;49m\u001B[33;43minput\u001B[39;49m\u001B[33;43m\"\u001B[39;49m\u001B[43m:\u001B[49m\u001B[43m \u001B[49m\u001B[43mquestion\u001B[49m\u001B[43m}\u001B[49m\u001B[43m)\u001B[49m\n\u001B[32m     40\u001B[39m     \u001B[38;5;28;01mreturn\u001B[39;00m response[\u001B[33m'\u001B[39m\u001B[33moutput\u001B[39m\u001B[33m'\u001B[39m]\n",
      "\u001B[36mFile \u001B[39m\u001B[32m~/Development/RetailMind/venv/lib/python3.11/site-packages/langchain/chains/base.py:167\u001B[39m, in \u001B[36mChain.invoke\u001B[39m\u001B[34m(self, input, config, **kwargs)\u001B[39m\n\u001B[32m    165\u001B[39m \u001B[38;5;28;01mexcept\u001B[39;00m \u001B[38;5;167;01mBaseException\u001B[39;00m \u001B[38;5;28;01mas\u001B[39;00m e:\n\u001B[32m    166\u001B[39m     run_manager.on_chain_error(e)\n\u001B[32m--> \u001B[39m\u001B[32m167\u001B[39m     \u001B[38;5;28;01mraise\u001B[39;00m e\n\u001B[32m    168\u001B[39m run_manager.on_chain_end(outputs)\n\u001B[32m    170\u001B[39m \u001B[38;5;28;01mif\u001B[39;00m include_run_info:\n",
      "\u001B[36mFile \u001B[39m\u001B[32m~/Development/RetailMind/venv/lib/python3.11/site-packages/langchain/chains/base.py:157\u001B[39m, in \u001B[36mChain.invoke\u001B[39m\u001B[34m(self, input, config, **kwargs)\u001B[39m\n\u001B[32m    154\u001B[39m \u001B[38;5;28;01mtry\u001B[39;00m:\n\u001B[32m    155\u001B[39m     \u001B[38;5;28mself\u001B[39m._validate_inputs(inputs)\n\u001B[32m    156\u001B[39m     outputs = (\n\u001B[32m--> \u001B[39m\u001B[32m157\u001B[39m         \u001B[38;5;28;43mself\u001B[39;49m\u001B[43m.\u001B[49m\u001B[43m_call\u001B[49m\u001B[43m(\u001B[49m\u001B[43minputs\u001B[49m\u001B[43m,\u001B[49m\u001B[43m \u001B[49m\u001B[43mrun_manager\u001B[49m\u001B[43m=\u001B[49m\u001B[43mrun_manager\u001B[49m\u001B[43m)\u001B[49m\n\u001B[32m    158\u001B[39m         \u001B[38;5;28;01mif\u001B[39;00m new_arg_supported\n\u001B[32m    159\u001B[39m         \u001B[38;5;28;01melse\u001B[39;00m \u001B[38;5;28mself\u001B[39m._call(inputs)\n\u001B[32m    160\u001B[39m     )\n\u001B[32m    162\u001B[39m     final_outputs: \u001B[38;5;28mdict\u001B[39m[\u001B[38;5;28mstr\u001B[39m, Any] = \u001B[38;5;28mself\u001B[39m.prep_outputs(\n\u001B[32m    163\u001B[39m         inputs, outputs, return_only_outputs\n\u001B[32m    164\u001B[39m     )\n\u001B[32m    165\u001B[39m \u001B[38;5;28;01mexcept\u001B[39;00m \u001B[38;5;167;01mBaseException\u001B[39;00m \u001B[38;5;28;01mas\u001B[39;00m e:\n",
      "\u001B[36mFile \u001B[39m\u001B[32m~/Development/RetailMind/venv/lib/python3.11/site-packages/langchain/agents/agent.py:1620\u001B[39m, in \u001B[36mAgentExecutor._call\u001B[39m\u001B[34m(self, inputs, run_manager)\u001B[39m\n\u001B[32m   1618\u001B[39m \u001B[38;5;66;03m# We now enter the agent loop (until it returns something).\u001B[39;00m\n\u001B[32m   1619\u001B[39m \u001B[38;5;28;01mwhile\u001B[39;00m \u001B[38;5;28mself\u001B[39m._should_continue(iterations, time_elapsed):\n\u001B[32m-> \u001B[39m\u001B[32m1620\u001B[39m     next_step_output = \u001B[38;5;28;43mself\u001B[39;49m\u001B[43m.\u001B[49m\u001B[43m_take_next_step\u001B[49m\u001B[43m(\u001B[49m\n\u001B[32m   1621\u001B[39m \u001B[43m        \u001B[49m\u001B[43mname_to_tool_map\u001B[49m\u001B[43m,\u001B[49m\n\u001B[32m   1622\u001B[39m \u001B[43m        \u001B[49m\u001B[43mcolor_mapping\u001B[49m\u001B[43m,\u001B[49m\n\u001B[32m   1623\u001B[39m \u001B[43m        \u001B[49m\u001B[43minputs\u001B[49m\u001B[43m,\u001B[49m\n\u001B[32m   1624\u001B[39m \u001B[43m        \u001B[49m\u001B[43mintermediate_steps\u001B[49m\u001B[43m,\u001B[49m\n\u001B[32m   1625\u001B[39m \u001B[43m        \u001B[49m\u001B[43mrun_manager\u001B[49m\u001B[43m=\u001B[49m\u001B[43mrun_manager\u001B[49m\u001B[43m,\u001B[49m\n\u001B[32m   1626\u001B[39m \u001B[43m    \u001B[49m\u001B[43m)\u001B[49m\n\u001B[32m   1627\u001B[39m     \u001B[38;5;28;01mif\u001B[39;00m \u001B[38;5;28misinstance\u001B[39m(next_step_output, AgentFinish):\n\u001B[32m   1628\u001B[39m         \u001B[38;5;28;01mreturn\u001B[39;00m \u001B[38;5;28mself\u001B[39m._return(\n\u001B[32m   1629\u001B[39m             next_step_output, intermediate_steps, run_manager=run_manager\n\u001B[32m   1630\u001B[39m         )\n",
      "\u001B[36mFile \u001B[39m\u001B[32m~/Development/RetailMind/venv/lib/python3.11/site-packages/langchain/agents/agent.py:1326\u001B[39m, in \u001B[36mAgentExecutor._take_next_step\u001B[39m\u001B[34m(self, name_to_tool_map, color_mapping, inputs, intermediate_steps, run_manager)\u001B[39m\n\u001B[32m   1317\u001B[39m \u001B[38;5;28;01mdef\u001B[39;00m\u001B[38;5;250m \u001B[39m\u001B[34m_take_next_step\u001B[39m(\n\u001B[32m   1318\u001B[39m     \u001B[38;5;28mself\u001B[39m,\n\u001B[32m   1319\u001B[39m     name_to_tool_map: \u001B[38;5;28mdict\u001B[39m[\u001B[38;5;28mstr\u001B[39m, BaseTool],\n\u001B[32m   (...)\u001B[39m\u001B[32m   1323\u001B[39m     run_manager: Optional[CallbackManagerForChainRun] = \u001B[38;5;28;01mNone\u001B[39;00m,\n\u001B[32m   1324\u001B[39m ) -> Union[AgentFinish, \u001B[38;5;28mlist\u001B[39m[\u001B[38;5;28mtuple\u001B[39m[AgentAction, \u001B[38;5;28mstr\u001B[39m]]]:\n\u001B[32m   1325\u001B[39m     \u001B[38;5;28;01mreturn\u001B[39;00m \u001B[38;5;28mself\u001B[39m._consume_next_step(\n\u001B[32m-> \u001B[39m\u001B[32m1326\u001B[39m         \u001B[43m[\u001B[49m\n\u001B[32m   1327\u001B[39m \u001B[43m            \u001B[49m\u001B[43ma\u001B[49m\n\u001B[32m   1328\u001B[39m \u001B[43m            \u001B[49m\u001B[38;5;28;43;01mfor\u001B[39;49;00m\u001B[43m \u001B[49m\u001B[43ma\u001B[49m\u001B[43m \u001B[49m\u001B[38;5;129;43;01min\u001B[39;49;00m\u001B[43m \u001B[49m\u001B[38;5;28;43mself\u001B[39;49m\u001B[43m.\u001B[49m\u001B[43m_iter_next_step\u001B[49m\u001B[43m(\u001B[49m\n\u001B[32m   1329\u001B[39m \u001B[43m                \u001B[49m\u001B[43mname_to_tool_map\u001B[49m\u001B[43m,\u001B[49m\n\u001B[32m   1330\u001B[39m \u001B[43m                \u001B[49m\u001B[43mcolor_mapping\u001B[49m\u001B[43m,\u001B[49m\n\u001B[32m   1331\u001B[39m \u001B[43m                \u001B[49m\u001B[43minputs\u001B[49m\u001B[43m,\u001B[49m\n\u001B[32m   1332\u001B[39m \u001B[43m                \u001B[49m\u001B[43mintermediate_steps\u001B[49m\u001B[43m,\u001B[49m\n\u001B[32m   1333\u001B[39m \u001B[43m                \u001B[49m\u001B[43mrun_manager\u001B[49m\u001B[43m,\u001B[49m\n\u001B[32m   1334\u001B[39m \u001B[43m            \u001B[49m\u001B[43m)\u001B[49m\n\u001B[32m   1335\u001B[39m \u001B[43m        \u001B[49m\u001B[43m]\u001B[49m\n\u001B[32m   1336\u001B[39m     )\n",
      "\u001B[36mFile \u001B[39m\u001B[32m~/Development/RetailMind/venv/lib/python3.11/site-packages/langchain/agents/agent.py:1326\u001B[39m, in \u001B[36m<listcomp>\u001B[39m\u001B[34m(.0)\u001B[39m\n\u001B[32m   1317\u001B[39m \u001B[38;5;28;01mdef\u001B[39;00m\u001B[38;5;250m \u001B[39m\u001B[34m_take_next_step\u001B[39m(\n\u001B[32m   1318\u001B[39m     \u001B[38;5;28mself\u001B[39m,\n\u001B[32m   1319\u001B[39m     name_to_tool_map: \u001B[38;5;28mdict\u001B[39m[\u001B[38;5;28mstr\u001B[39m, BaseTool],\n\u001B[32m   (...)\u001B[39m\u001B[32m   1323\u001B[39m     run_manager: Optional[CallbackManagerForChainRun] = \u001B[38;5;28;01mNone\u001B[39;00m,\n\u001B[32m   1324\u001B[39m ) -> Union[AgentFinish, \u001B[38;5;28mlist\u001B[39m[\u001B[38;5;28mtuple\u001B[39m[AgentAction, \u001B[38;5;28mstr\u001B[39m]]]:\n\u001B[32m   1325\u001B[39m     \u001B[38;5;28;01mreturn\u001B[39;00m \u001B[38;5;28mself\u001B[39m._consume_next_step(\n\u001B[32m-> \u001B[39m\u001B[32m1326\u001B[39m         \u001B[43m[\u001B[49m\n\u001B[32m   1327\u001B[39m \u001B[43m            \u001B[49m\u001B[43ma\u001B[49m\n\u001B[32m   1328\u001B[39m \u001B[43m            \u001B[49m\u001B[38;5;28;43;01mfor\u001B[39;49;00m\u001B[43m \u001B[49m\u001B[43ma\u001B[49m\u001B[43m \u001B[49m\u001B[38;5;129;43;01min\u001B[39;49;00m\u001B[43m \u001B[49m\u001B[38;5;28;43mself\u001B[39;49m\u001B[43m.\u001B[49m\u001B[43m_iter_next_step\u001B[49m\u001B[43m(\u001B[49m\n\u001B[32m   1329\u001B[39m \u001B[43m                \u001B[49m\u001B[43mname_to_tool_map\u001B[49m\u001B[43m,\u001B[49m\n\u001B[32m   1330\u001B[39m \u001B[43m                \u001B[49m\u001B[43mcolor_mapping\u001B[49m\u001B[43m,\u001B[49m\n\u001B[32m   1331\u001B[39m \u001B[43m                \u001B[49m\u001B[43minputs\u001B[49m\u001B[43m,\u001B[49m\n\u001B[32m   1332\u001B[39m \u001B[43m                \u001B[49m\u001B[43mintermediate_steps\u001B[49m\u001B[43m,\u001B[49m\n\u001B[32m   1333\u001B[39m \u001B[43m                \u001B[49m\u001B[43mrun_manager\u001B[49m\u001B[43m,\u001B[49m\n\u001B[32m   1334\u001B[39m \u001B[43m            \u001B[49m\u001B[43m)\u001B[49m\n\u001B[32m   1335\u001B[39m \u001B[43m        \u001B[49m\u001B[43m]\u001B[49m\n\u001B[32m   1336\u001B[39m     )\n",
      "\u001B[36mFile \u001B[39m\u001B[32m~/Development/RetailMind/venv/lib/python3.11/site-packages/langchain/agents/agent.py:1411\u001B[39m, in \u001B[36mAgentExecutor._iter_next_step\u001B[39m\u001B[34m(self, name_to_tool_map, color_mapping, inputs, intermediate_steps, run_manager)\u001B[39m\n\u001B[32m   1409\u001B[39m     \u001B[38;5;28;01myield\u001B[39;00m agent_action\n\u001B[32m   1410\u001B[39m \u001B[38;5;28;01mfor\u001B[39;00m agent_action \u001B[38;5;129;01min\u001B[39;00m actions:\n\u001B[32m-> \u001B[39m\u001B[32m1411\u001B[39m     \u001B[38;5;28;01myield\u001B[39;00m \u001B[38;5;28;43mself\u001B[39;49m\u001B[43m.\u001B[49m\u001B[43m_perform_agent_action\u001B[49m\u001B[43m(\u001B[49m\n\u001B[32m   1412\u001B[39m \u001B[43m        \u001B[49m\u001B[43mname_to_tool_map\u001B[49m\u001B[43m,\u001B[49m\u001B[43m \u001B[49m\u001B[43mcolor_mapping\u001B[49m\u001B[43m,\u001B[49m\u001B[43m \u001B[49m\u001B[43magent_action\u001B[49m\u001B[43m,\u001B[49m\u001B[43m \u001B[49m\u001B[43mrun_manager\u001B[49m\n\u001B[32m   1413\u001B[39m \u001B[43m    \u001B[49m\u001B[43m)\u001B[49m\n",
      "\u001B[36mFile \u001B[39m\u001B[32m~/Development/RetailMind/venv/lib/python3.11/site-packages/langchain/agents/agent.py:1433\u001B[39m, in \u001B[36mAgentExecutor._perform_agent_action\u001B[39m\u001B[34m(self, name_to_tool_map, color_mapping, agent_action, run_manager)\u001B[39m\n\u001B[32m   1431\u001B[39m         tool_run_kwargs[\u001B[33m\"\u001B[39m\u001B[33mllm_prefix\u001B[39m\u001B[33m\"\u001B[39m] = \u001B[33m\"\u001B[39m\u001B[33m\"\u001B[39m\n\u001B[32m   1432\u001B[39m     \u001B[38;5;66;03m# We then call the tool on the tool input to get an observation\u001B[39;00m\n\u001B[32m-> \u001B[39m\u001B[32m1433\u001B[39m     observation = \u001B[43mtool\u001B[49m\u001B[43m.\u001B[49m\u001B[43mrun\u001B[49m\u001B[43m(\u001B[49m\n\u001B[32m   1434\u001B[39m \u001B[43m        \u001B[49m\u001B[43magent_action\u001B[49m\u001B[43m.\u001B[49m\u001B[43mtool_input\u001B[49m\u001B[43m,\u001B[49m\n\u001B[32m   1435\u001B[39m \u001B[43m        \u001B[49m\u001B[43mverbose\u001B[49m\u001B[43m=\u001B[49m\u001B[38;5;28;43mself\u001B[39;49m\u001B[43m.\u001B[49m\u001B[43mverbose\u001B[49m\u001B[43m,\u001B[49m\n\u001B[32m   1436\u001B[39m \u001B[43m        \u001B[49m\u001B[43mcolor\u001B[49m\u001B[43m=\u001B[49m\u001B[43mcolor\u001B[49m\u001B[43m,\u001B[49m\n\u001B[32m   1437\u001B[39m \u001B[43m        \u001B[49m\u001B[43mcallbacks\u001B[49m\u001B[43m=\u001B[49m\u001B[43mrun_manager\u001B[49m\u001B[43m.\u001B[49m\u001B[43mget_child\u001B[49m\u001B[43m(\u001B[49m\u001B[43m)\u001B[49m\u001B[43m \u001B[49m\u001B[38;5;28;43;01mif\u001B[39;49;00m\u001B[43m \u001B[49m\u001B[43mrun_manager\u001B[49m\u001B[43m \u001B[49m\u001B[38;5;28;43;01melse\u001B[39;49;00m\u001B[43m \u001B[49m\u001B[38;5;28;43;01mNone\u001B[39;49;00m\u001B[43m,\u001B[49m\n\u001B[32m   1438\u001B[39m \u001B[43m        \u001B[49m\u001B[43m*\u001B[49m\u001B[43m*\u001B[49m\u001B[43mtool_run_kwargs\u001B[49m\u001B[43m,\u001B[49m\n\u001B[32m   1439\u001B[39m \u001B[43m    \u001B[49m\u001B[43m)\u001B[49m\n\u001B[32m   1440\u001B[39m \u001B[38;5;28;01melse\u001B[39;00m:\n\u001B[32m   1441\u001B[39m     tool_run_kwargs = \u001B[38;5;28mself\u001B[39m._action_agent.tool_run_logging_kwargs()\n",
      "\u001B[36mFile \u001B[39m\u001B[32m~/Development/RetailMind/venv/lib/python3.11/site-packages/langchain_core/tools/base.py:883\u001B[39m, in \u001B[36mBaseTool.run\u001B[39m\u001B[34m(self, tool_input, verbose, start_color, color, callbacks, tags, metadata, run_name, run_id, config, tool_call_id, **kwargs)\u001B[39m\n\u001B[32m    881\u001B[39m \u001B[38;5;28;01mif\u001B[39;00m error_to_raise:\n\u001B[32m    882\u001B[39m     run_manager.on_tool_error(error_to_raise)\n\u001B[32m--> \u001B[39m\u001B[32m883\u001B[39m     \u001B[38;5;28;01mraise\u001B[39;00m error_to_raise\n\u001B[32m    884\u001B[39m output = _format_output(content, artifact, tool_call_id, \u001B[38;5;28mself\u001B[39m.name, status)\n\u001B[32m    885\u001B[39m run_manager.on_tool_end(output, color=color, name=\u001B[38;5;28mself\u001B[39m.name, **kwargs)\n",
      "\u001B[36mFile \u001B[39m\u001B[32m~/Development/RetailMind/venv/lib/python3.11/site-packages/langchain_core/tools/base.py:852\u001B[39m, in \u001B[36mBaseTool.run\u001B[39m\u001B[34m(self, tool_input, verbose, start_color, color, callbacks, tags, metadata, run_name, run_id, config, tool_call_id, **kwargs)\u001B[39m\n\u001B[32m    850\u001B[39m     \u001B[38;5;28;01mif\u001B[39;00m config_param := _get_runnable_config_param(\u001B[38;5;28mself\u001B[39m._run):\n\u001B[32m    851\u001B[39m         tool_kwargs = tool_kwargs | {config_param: config}\n\u001B[32m--> \u001B[39m\u001B[32m852\u001B[39m     response = \u001B[43mcontext\u001B[49m\u001B[43m.\u001B[49m\u001B[43mrun\u001B[49m\u001B[43m(\u001B[49m\u001B[38;5;28;43mself\u001B[39;49m\u001B[43m.\u001B[49m\u001B[43m_run\u001B[49m\u001B[43m,\u001B[49m\u001B[43m \u001B[49m\u001B[43m*\u001B[49m\u001B[43mtool_args\u001B[49m\u001B[43m,\u001B[49m\u001B[43m \u001B[49m\u001B[43m*\u001B[49m\u001B[43m*\u001B[49m\u001B[43mtool_kwargs\u001B[49m\u001B[43m)\u001B[49m\n\u001B[32m    853\u001B[39m \u001B[38;5;28;01mif\u001B[39;00m \u001B[38;5;28mself\u001B[39m.response_format == \u001B[33m\"\u001B[39m\u001B[33mcontent_and_artifact\u001B[39m\u001B[33m\"\u001B[39m:\n\u001B[32m    854\u001B[39m     \u001B[38;5;28;01mif\u001B[39;00m \u001B[38;5;129;01mnot\u001B[39;00m \u001B[38;5;28misinstance\u001B[39m(response, \u001B[38;5;28mtuple\u001B[39m) \u001B[38;5;129;01mor\u001B[39;00m \u001B[38;5;28mlen\u001B[39m(response) != \u001B[32m2\u001B[39m:\n",
      "\u001B[36mFile \u001B[39m\u001B[32m~/Development/RetailMind/venv/lib/python3.11/site-packages/langchain_core/tools/structured.py:93\u001B[39m, in \u001B[36mStructuredTool._run\u001B[39m\u001B[34m(self, config, run_manager, *args, **kwargs)\u001B[39m\n\u001B[32m     91\u001B[39m     \u001B[38;5;28;01mif\u001B[39;00m config_param := _get_runnable_config_param(\u001B[38;5;28mself\u001B[39m.func):\n\u001B[32m     92\u001B[39m         kwargs[config_param] = config\n\u001B[32m---> \u001B[39m\u001B[32m93\u001B[39m     \u001B[38;5;28;01mreturn\u001B[39;00m \u001B[38;5;28;43mself\u001B[39;49m\u001B[43m.\u001B[49m\u001B[43mfunc\u001B[49m\u001B[43m(\u001B[49m\u001B[43m*\u001B[49m\u001B[43margs\u001B[49m\u001B[43m,\u001B[49m\u001B[43m \u001B[49m\u001B[43m*\u001B[49m\u001B[43m*\u001B[49m\u001B[43mkwargs\u001B[49m\u001B[43m)\u001B[49m\n\u001B[32m     94\u001B[39m msg = \u001B[33m\"\u001B[39m\u001B[33mStructuredTool does not support sync invocation.\u001B[39m\u001B[33m\"\u001B[39m\n\u001B[32m     95\u001B[39m \u001B[38;5;28;01mraise\u001B[39;00m \u001B[38;5;167;01mNotImplementedError\u001B[39;00m(msg)\n",
      "\u001B[36mFile \u001B[39m\u001B[32m~/Development/RetailMind/src/eda.py:395\u001B[39m, in \u001B[36mEDAFeatures.analyze_economic_headwinds\u001B[39m\u001B[34m(self, tool_input)\u001B[39m\n\u001B[32m    393\u001B[39m max_index_val = spec_df[\u001B[33m'\u001B[39m\u001B[33mheadwinds_index\u001B[39m\u001B[33m'\u001B[39m].max()\n\u001B[32m    394\u001B[39m min_index_val = spec_df[\u001B[33m'\u001B[39m\u001B[33mheadwinds_index\u001B[39m\u001B[33m'\u001B[39m].min()\n\u001B[32m--> \u001B[39m\u001B[32m395\u001B[39m date_of_max = \u001B[43mspec_df\u001B[49m\u001B[43m[\u001B[49m\u001B[33;43m'\u001B[39;49m\u001B[33;43mheadwinds_index\u001B[39;49m\u001B[33;43m'\u001B[39;49m\u001B[43m]\u001B[49m\u001B[43m.\u001B[49m\u001B[43midxmax\u001B[49m\u001B[43m(\u001B[49m\u001B[43m)\u001B[49m.strftime(\u001B[33m'\u001B[39m\u001B[33m%\u001B[39m\u001B[33mB \u001B[39m\u001B[38;5;132;01m%d\u001B[39;00m\u001B[33m, \u001B[39m\u001B[33m%\u001B[39m\u001B[33mY\u001B[39m\u001B[33m'\u001B[39m)\n\u001B[32m    396\u001B[39m date_of_min = spec_df[\u001B[33m'\u001B[39m\u001B[33mheadwinds_index\u001B[39m\u001B[33m'\u001B[39m].idxmin().strftime(\u001B[33m'\u001B[39m\u001B[33m%\u001B[39m\u001B[33mB \u001B[39m\u001B[38;5;132;01m%d\u001B[39;00m\u001B[33m, \u001B[39m\u001B[33m%\u001B[39m\u001B[33mY\u001B[39m\u001B[33m'\u001B[39m)\n\u001B[32m    398\u001B[39m summary = [\u001B[33mf\u001B[39m\u001B[33m\"\u001B[39m\u001B[33mThe most recent Retail Headwinds Index is \u001B[39m\u001B[38;5;132;01m{\u001B[39;00mlatest_data[\u001B[33m'\u001B[39m\u001B[33mheadwinds_index\u001B[39m\u001B[33m'\u001B[39m]\u001B[38;5;132;01m:\u001B[39;00m\u001B[33m.2f\u001B[39m\u001B[38;5;132;01m}\u001B[39;00m\u001B[33m.\u001B[39m\u001B[33m\"\u001B[39m]\n",
      "\u001B[36mFile \u001B[39m\u001B[32m~/Development/RetailMind/venv/lib/python3.11/site-packages/pandas/core/series.py:2645\u001B[39m, in \u001B[36mSeries.idxmax\u001B[39m\u001B[34m(self, axis, skipna, *args, **kwargs)\u001B[39m\n\u001B[32m   2640\u001B[39m \u001B[38;5;28;01mwith\u001B[39;00m warnings.catch_warnings():\n\u001B[32m   2641\u001B[39m     \u001B[38;5;66;03m# TODO(3.0): this catching/filtering can be removed\u001B[39;00m\n\u001B[32m   2642\u001B[39m     \u001B[38;5;66;03m# ignore warning produced by argmax since we will issue a different\u001B[39;00m\n\u001B[32m   2643\u001B[39m     \u001B[38;5;66;03m#  warning for argmax\u001B[39;00m\n\u001B[32m   2644\u001B[39m     warnings.simplefilter(\u001B[33m\"\u001B[39m\u001B[33mignore\u001B[39m\u001B[33m\"\u001B[39m)\n\u001B[32m-> \u001B[39m\u001B[32m2645\u001B[39m     i = \u001B[38;5;28;43mself\u001B[39;49m\u001B[43m.\u001B[49m\u001B[43margmax\u001B[49m\u001B[43m(\u001B[49m\u001B[43maxis\u001B[49m\u001B[43m,\u001B[49m\u001B[43m \u001B[49m\u001B[43mskipna\u001B[49m\u001B[43m,\u001B[49m\u001B[43m \u001B[49m\u001B[43m*\u001B[49m\u001B[43margs\u001B[49m\u001B[43m,\u001B[49m\u001B[43m \u001B[49m\u001B[43m*\u001B[49m\u001B[43m*\u001B[49m\u001B[43mkwargs\u001B[49m\u001B[43m)\u001B[49m\n\u001B[32m   2647\u001B[39m \u001B[38;5;28;01mif\u001B[39;00m i == -\u001B[32m1\u001B[39m:\n\u001B[32m   2648\u001B[39m     \u001B[38;5;66;03m# GH#43587 give correct NA value for Index.\u001B[39;00m\n\u001B[32m   2649\u001B[39m     warnings.warn(\n\u001B[32m   2650\u001B[39m         \u001B[33mf\u001B[39m\u001B[33m\"\u001B[39m\u001B[33mThe behavior of \u001B[39m\u001B[38;5;132;01m{\u001B[39;00m\u001B[38;5;28mtype\u001B[39m(\u001B[38;5;28mself\u001B[39m).\u001B[34m__name__\u001B[39m\u001B[38;5;132;01m}\u001B[39;00m\u001B[33m.idxmax with all-NA \u001B[39m\u001B[33m\"\u001B[39m\n\u001B[32m   2651\u001B[39m         \u001B[33m\"\u001B[39m\u001B[33mvalues, or any-NA and skipna=False, is deprecated. In a future \u001B[39m\u001B[33m\"\u001B[39m\n\u001B[32m   (...)\u001B[39m\u001B[32m   2654\u001B[39m         stacklevel=find_stack_level(),\n\u001B[32m   2655\u001B[39m     )\n",
      "\u001B[36mFile \u001B[39m\u001B[32m~/Development/RetailMind/venv/lib/python3.11/site-packages/pandas/core/base.py:751\u001B[39m, in \u001B[36mIndexOpsMixin.argmax\u001B[39m\u001B[34m(self, axis, skipna, *args, **kwargs)\u001B[39m\n\u001B[32m    749\u001B[39m         \u001B[38;5;28;01mreturn\u001B[39;00m delegate.argmax()\n\u001B[32m    750\u001B[39m \u001B[38;5;28;01melse\u001B[39;00m:\n\u001B[32m--> \u001B[39m\u001B[32m751\u001B[39m     result = \u001B[43mnanops\u001B[49m\u001B[43m.\u001B[49m\u001B[43mnanargmax\u001B[49m\u001B[43m(\u001B[49m\u001B[43mdelegate\u001B[49m\u001B[43m,\u001B[49m\u001B[43m \u001B[49m\u001B[43mskipna\u001B[49m\u001B[43m=\u001B[49m\u001B[43mskipna\u001B[49m\u001B[43m)\u001B[49m\n\u001B[32m    752\u001B[39m     \u001B[38;5;28;01mif\u001B[39;00m result == -\u001B[32m1\u001B[39m:\n\u001B[32m    753\u001B[39m         warnings.warn(\n\u001B[32m    754\u001B[39m             \u001B[33mf\u001B[39m\u001B[33m\"\u001B[39m\u001B[33mThe behavior of \u001B[39m\u001B[38;5;132;01m{\u001B[39;00m\u001B[38;5;28mtype\u001B[39m(\u001B[38;5;28mself\u001B[39m).\u001B[34m__name__\u001B[39m\u001B[38;5;132;01m}\u001B[39;00m\u001B[33m.argmax/argmin \u001B[39m\u001B[33m\"\u001B[39m\n\u001B[32m    755\u001B[39m             \u001B[33m\"\u001B[39m\u001B[33mwith skipna=False and NAs, or with all-NAs is deprecated. \u001B[39m\u001B[33m\"\u001B[39m\n\u001B[32m   (...)\u001B[39m\u001B[32m    758\u001B[39m             stacklevel=find_stack_level(),\n\u001B[32m    759\u001B[39m         )\n",
      "\u001B[36mFile \u001B[39m\u001B[32m~/Development/RetailMind/venv/lib/python3.11/site-packages/pandas/core/nanops.py:1141\u001B[39m, in \u001B[36mnanargmax\u001B[39m\u001B[34m(values, axis, skipna, mask)\u001B[39m\n\u001B[32m   1103\u001B[39m \u001B[38;5;28;01mdef\u001B[39;00m\u001B[38;5;250m \u001B[39m\u001B[34mnanargmax\u001B[39m(\n\u001B[32m   1104\u001B[39m     values: np.ndarray,\n\u001B[32m   1105\u001B[39m     *,\n\u001B[32m   (...)\u001B[39m\u001B[32m   1108\u001B[39m     mask: npt.NDArray[np.bool_] | \u001B[38;5;28;01mNone\u001B[39;00m = \u001B[38;5;28;01mNone\u001B[39;00m,\n\u001B[32m   1109\u001B[39m ) -> \u001B[38;5;28mint\u001B[39m | np.ndarray:\n\u001B[32m   1110\u001B[39m \u001B[38;5;250m    \u001B[39m\u001B[33;03m\"\"\"\u001B[39;00m\n\u001B[32m   1111\u001B[39m \u001B[33;03m    Parameters\u001B[39;00m\n\u001B[32m   1112\u001B[39m \u001B[33;03m    ----------\u001B[39;00m\n\u001B[32m   (...)\u001B[39m\u001B[32m   1139\u001B[39m \u001B[33;03m    array([2, 2, 1, 1])\u001B[39;00m\n\u001B[32m   1140\u001B[39m \u001B[33;03m    \"\"\"\u001B[39;00m\n\u001B[32m-> \u001B[39m\u001B[32m1141\u001B[39m     values, mask = \u001B[43m_get_values\u001B[49m\u001B[43m(\u001B[49m\u001B[43mvalues\u001B[49m\u001B[43m,\u001B[49m\u001B[43m \u001B[49m\u001B[38;5;28;43;01mTrue\u001B[39;49;00m\u001B[43m,\u001B[49m\u001B[43m \u001B[49m\u001B[43mfill_value_typ\u001B[49m\u001B[43m=\u001B[49m\u001B[33;43m\"\u001B[39;49m\u001B[33;43m-inf\u001B[39;49m\u001B[33;43m\"\u001B[39;49m\u001B[43m,\u001B[49m\u001B[43m \u001B[49m\u001B[43mmask\u001B[49m\u001B[43m=\u001B[49m\u001B[43mmask\u001B[49m\u001B[43m)\u001B[49m\n\u001B[32m   1142\u001B[39m     \u001B[38;5;66;03m# error: Need type annotation for 'result'\u001B[39;00m\n\u001B[32m   1143\u001B[39m     result = values.argmax(axis)  \u001B[38;5;66;03m# type: ignore[var-annotated]\u001B[39;00m\n",
      "\u001B[36mFile \u001B[39m\u001B[32m~/Development/RetailMind/venv/lib/python3.11/site-packages/pandas/core/nanops.py:294\u001B[39m, in \u001B[36m_get_values\u001B[39m\u001B[34m(values, skipna, fill_value, fill_value_typ, mask)\u001B[39m\n\u001B[32m    260\u001B[39m \u001B[38;5;250m\u001B[39m\u001B[33;03m\"\"\"\u001B[39;00m\n\u001B[32m    261\u001B[39m \u001B[33;03mUtility to get the values view, mask, dtype, dtype_max, and fill_value.\u001B[39;00m\n\u001B[32m    262\u001B[39m \n\u001B[32m   (...)\u001B[39m\u001B[32m    288\u001B[39m \u001B[33;03m    Mask for values, if deemed necessary to compute\u001B[39;00m\n\u001B[32m    289\u001B[39m \u001B[33;03m\"\"\"\u001B[39;00m\n\u001B[32m    290\u001B[39m \u001B[38;5;66;03m# In _get_values is only called from within nanops, and in all cases\u001B[39;00m\n\u001B[32m    291\u001B[39m \u001B[38;5;66;03m#  with scalar fill_value.  This guarantee is important for the\u001B[39;00m\n\u001B[32m    292\u001B[39m \u001B[38;5;66;03m#  np.where call below\u001B[39;00m\n\u001B[32m--> \u001B[39m\u001B[32m294\u001B[39m mask = \u001B[43m_maybe_get_mask\u001B[49m\u001B[43m(\u001B[49m\u001B[43mvalues\u001B[49m\u001B[43m,\u001B[49m\u001B[43m \u001B[49m\u001B[43mskipna\u001B[49m\u001B[43m,\u001B[49m\u001B[43m \u001B[49m\u001B[43mmask\u001B[49m\u001B[43m)\u001B[49m\n\u001B[32m    296\u001B[39m dtype = values.dtype\n\u001B[32m    298\u001B[39m datetimelike = \u001B[38;5;28;01mFalse\u001B[39;00m\n",
      "\u001B[36mFile \u001B[39m\u001B[32m~/Development/RetailMind/venv/lib/python3.11/site-packages/pandas/core/nanops.py:248\u001B[39m, in \u001B[36m_maybe_get_mask\u001B[39m\u001B[34m(values, skipna, mask)\u001B[39m\n\u001B[32m    245\u001B[39m         \u001B[38;5;28;01mreturn\u001B[39;00m \u001B[38;5;28;01mNone\u001B[39;00m\n\u001B[32m    247\u001B[39m     \u001B[38;5;28;01mif\u001B[39;00m skipna \u001B[38;5;129;01mor\u001B[39;00m values.dtype.kind \u001B[38;5;129;01min\u001B[39;00m \u001B[33m\"\u001B[39m\u001B[33mmM\u001B[39m\u001B[33m\"\u001B[39m:\n\u001B[32m--> \u001B[39m\u001B[32m248\u001B[39m         mask = \u001B[43misna\u001B[49m\u001B[43m(\u001B[49m\u001B[43mvalues\u001B[49m\u001B[43m)\u001B[49m\n\u001B[32m    250\u001B[39m \u001B[38;5;28;01mreturn\u001B[39;00m mask\n",
      "\u001B[36mFile \u001B[39m\u001B[32m~/Development/RetailMind/venv/lib/python3.11/site-packages/pandas/core/dtypes/missing.py:178\u001B[39m, in \u001B[36misna\u001B[39m\u001B[34m(obj)\u001B[39m\n\u001B[32m    101\u001B[39m \u001B[38;5;28;01mdef\u001B[39;00m\u001B[38;5;250m \u001B[39m\u001B[34misna\u001B[39m(obj: \u001B[38;5;28mobject\u001B[39m) -> \u001B[38;5;28mbool\u001B[39m | npt.NDArray[np.bool_] | NDFrame:\n\u001B[32m    102\u001B[39m \u001B[38;5;250m    \u001B[39m\u001B[33;03m\"\"\"\u001B[39;00m\n\u001B[32m    103\u001B[39m \u001B[33;03m    Detect missing values for an array-like object.\u001B[39;00m\n\u001B[32m    104\u001B[39m \n\u001B[32m   (...)\u001B[39m\u001B[32m    176\u001B[39m \u001B[33;03m    Name: 1, dtype: bool\u001B[39;00m\n\u001B[32m    177\u001B[39m \u001B[33;03m    \"\"\"\u001B[39;00m\n\u001B[32m--> \u001B[39m\u001B[32m178\u001B[39m     \u001B[38;5;28;01mreturn\u001B[39;00m \u001B[43m_isna\u001B[49m\u001B[43m(\u001B[49m\u001B[43mobj\u001B[49m\u001B[43m)\u001B[49m\n",
      "\u001B[36mFile \u001B[39m\u001B[32m~/Development/RetailMind/venv/lib/python3.11/site-packages/pandas/core/dtypes/missing.py:207\u001B[39m, in \u001B[36m_isna\u001B[39m\u001B[34m(obj, inf_as_na)\u001B[39m\n\u001B[32m    205\u001B[39m     \u001B[38;5;28;01mreturn\u001B[39;00m \u001B[38;5;28;01mFalse\u001B[39;00m\n\u001B[32m    206\u001B[39m \u001B[38;5;28;01melif\u001B[39;00m \u001B[38;5;28misinstance\u001B[39m(obj, (np.ndarray, ABCExtensionArray)):\n\u001B[32m--> \u001B[39m\u001B[32m207\u001B[39m     \u001B[38;5;28;01mreturn\u001B[39;00m \u001B[43m_isna_array\u001B[49m\u001B[43m(\u001B[49m\u001B[43mobj\u001B[49m\u001B[43m,\u001B[49m\u001B[43m \u001B[49m\u001B[43minf_as_na\u001B[49m\u001B[43m=\u001B[49m\u001B[43minf_as_na\u001B[49m\u001B[43m)\u001B[49m\n\u001B[32m    208\u001B[39m \u001B[38;5;28;01melif\u001B[39;00m \u001B[38;5;28misinstance\u001B[39m(obj, ABCIndex):\n\u001B[32m    209\u001B[39m     \u001B[38;5;66;03m# Try to use cached isna, which also short-circuits for integer dtypes\u001B[39;00m\n\u001B[32m    210\u001B[39m     \u001B[38;5;66;03m#  and avoids materializing RangeIndex._values\u001B[39;00m\n\u001B[32m    211\u001B[39m     \u001B[38;5;28;01mif\u001B[39;00m \u001B[38;5;129;01mnot\u001B[39;00m obj._can_hold_na:\n",
      "\u001B[36mFile \u001B[39m\u001B[32m~/Development/RetailMind/venv/lib/python3.11/site-packages/pandas/core/dtypes/missing.py:300\u001B[39m, in \u001B[36m_isna_array\u001B[39m\u001B[34m(values, inf_as_na)\u001B[39m\n\u001B[32m    298\u001B[39m         result = ~np.isfinite(values)\n\u001B[32m    299\u001B[39m     \u001B[38;5;28;01melse\u001B[39;00m:\n\u001B[32m--> \u001B[39m\u001B[32m300\u001B[39m         result = \u001B[43mnp\u001B[49m\u001B[43m.\u001B[49m\u001B[43misnan\u001B[49m\u001B[43m(\u001B[49m\u001B[43mvalues\u001B[49m\u001B[43m)\u001B[49m\n\u001B[32m    302\u001B[39m \u001B[38;5;28;01mreturn\u001B[39;00m result\n",
      "\u001B[31mKeyboardInterrupt\u001B[39m: "
     ]
    }
   ],
   "execution_count": 18
  }
 ],
 "metadata": {
  "kernelspec": {
   "display_name": "Python 3",
   "language": "python",
   "name": "python3"
  },
  "language_info": {
   "codemirror_mode": {
    "name": "ipython",
    "version": 2
   },
   "file_extension": ".py",
   "mimetype": "text/x-python",
   "name": "python",
   "nbconvert_exporter": "python",
   "pygments_lexer": "ipython2",
   "version": "2.7.6"
  }
 },
 "nbformat": 4,
 "nbformat_minor": 5
}
