{
 "cells": [
  {
   "cell_type": "code",
   "id": "initial_id",
   "metadata": {
    "collapsed": true,
    "ExecuteTime": {
     "end_time": "2025-06-24T18:02:20.588117Z",
     "start_time": "2025-06-24T18:02:20.573676Z"
    }
   },
   "source": [
    "import pandas as pd\n",
    "from pycaret.time_series import *\n",
    "from pycaret.time_series import TSForecastingExperiment\n"
   ],
   "outputs": [],
   "execution_count": 4
  },
  {
   "metadata": {
    "ExecuteTime": {
     "end_time": "2025-06-24T18:02:20.605798Z",
     "start_time": "2025-06-24T18:02:20.601302Z"
    }
   },
   "cell_type": "code",
   "source": [
    "def forecast_sales(df: pd.DataFrame, store_id: int, fh: int = 12):\n",
    "    store_df = df[df['Store'] == store_id][['Date', 'Weekly_Sales']].copy()\n",
    "    exp = TSForecastingExperiment()\n",
    "    exp.setup(store_df, fh = 3, session_id = 123, log_experiment='mlflow')"
   ],
   "id": "30cc5d271ff5f2e6",
   "outputs": [],
   "execution_count": 5
  },
  {
   "metadata": {
    "ExecuteTime": {
     "end_time": "2025-06-24T18:02:20.796367Z",
     "start_time": "2025-06-24T18:02:20.709923Z"
    }
   },
   "cell_type": "code",
   "source": "    check_stats()",
   "id": "ea84b338aa85b40e",
   "outputs": [
    {
     "ename": "ValueError",
     "evalue": "_CURRENT_EXPERIMENT global variable is not set. Please run setup() first.",
     "output_type": "error",
     "traceback": [
      "\u001B[31m---------------------------------------------------------------------------\u001B[39m",
      "\u001B[31mValueError\u001B[39m                                Traceback (most recent call last)",
      "\u001B[36mCell\u001B[39m\u001B[36m \u001B[39m\u001B[32mIn[7]\u001B[39m\u001B[32m, line 1\u001B[39m\n\u001B[32m----> \u001B[39m\u001B[32m1\u001B[39m \u001B[43mcheck_stats\u001B[49m\u001B[43m(\u001B[49m\u001B[43m)\u001B[49m\n",
      "\u001B[36mFile \u001B[39m\u001B[32m~/Development/RetailMind/venv/lib/python3.11/site-packages/pycaret/utils/generic.py:963\u001B[39m, in \u001B[36mcheck_if_global_is_not_none.<locals>.decorator.<locals>.wrapper\u001B[39m\u001B[34m(*args, **kwargs)\u001B[39m\n\u001B[32m    961\u001B[39m \u001B[38;5;28;01mfor\u001B[39;00m name, message \u001B[38;5;129;01min\u001B[39;00m global_names.items():\n\u001B[32m    962\u001B[39m     \u001B[38;5;28;01mif\u001B[39;00m globals_d[name] \u001B[38;5;129;01mis\u001B[39;00m \u001B[38;5;28;01mNone\u001B[39;00m:\n\u001B[32m--> \u001B[39m\u001B[32m963\u001B[39m         \u001B[38;5;28;01mraise\u001B[39;00m \u001B[38;5;167;01mValueError\u001B[39;00m(message)\n\u001B[32m    964\u001B[39m \u001B[38;5;28;01mreturn\u001B[39;00m func(*args, **kwargs)\n",
      "\u001B[31mValueError\u001B[39m: _CURRENT_EXPERIMENT global variable is not set. Please run setup() first."
     ]
    }
   ],
   "execution_count": 7
  },
  {
   "metadata": {},
   "cell_type": "code",
   "outputs": [],
   "execution_count": null,
   "source": "    best = compare_models()",
   "id": "68bc8775e2cf35ca"
  },
  {
   "metadata": {},
   "cell_type": "code",
   "outputs": [],
   "execution_count": null,
   "source": "    exp.compare_models()",
   "id": "9d4afab94cb94522"
  },
  {
   "metadata": {},
   "cell_type": "code",
   "outputs": [],
   "execution_count": null,
   "source": "    plot_model(best, plot = 'forecast')",
   "id": "16b49925d29ca42d"
  },
  {
   "metadata": {},
   "cell_type": "code",
   "outputs": [],
   "execution_count": null,
   "source": "    plot_model(best, plot = 'forecast', data_kwargs = {'fh' : 36})",
   "id": "f4fdb909ef3ce0e2"
  },
  {
   "metadata": {},
   "cell_type": "code",
   "outputs": [],
   "execution_count": null,
   "source": "    holdout_pred = predict_model(best)",
   "id": "85c5050e2d570aea"
  },
  {
   "metadata": {},
   "cell_type": "code",
   "outputs": [],
   "execution_count": null,
   "source": [
    "    holdout_pred.head()\n",
    "    predict_model(best, fh = 36)"
   ],
   "id": "8f211038264368d1"
  },
  {
   "metadata": {},
   "cell_type": "code",
   "outputs": [],
   "execution_count": null,
   "source": "    save_model(best, 'forecast_pipeline')",
   "id": "e722beea3888f28a"
  }
 ],
 "metadata": {
  "kernelspec": {
   "display_name": "Python 3",
   "language": "python",
   "name": "python3"
  },
  "language_info": {
   "codemirror_mode": {
    "name": "ipython",
    "version": 2
   },
   "file_extension": ".py",
   "mimetype": "text/x-python",
   "name": "python",
   "nbconvert_exporter": "python",
   "pygments_lexer": "ipython2",
   "version": "2.7.6"
  }
 },
 "nbformat": 4,
 "nbformat_minor": 5
}
